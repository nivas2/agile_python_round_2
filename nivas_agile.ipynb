{
  "nbformat": 4,
  "nbformat_minor": 0,
  "metadata": {
    "colab": {
      "provenance": []
    },
    "kernelspec": {
      "name": "python3",
      "display_name": "Python 3"
    },
    "language_info": {
      "name": "python"
    }
  },
  "cells": [
    {
      "cell_type": "code",
      "source": [
        "import pandas as pd\n",
        "#Creating the first dataframe of sheet=2\n",
        "df1=pd.read_excel(\"Python Assignment_1.xlsx\",sheet_name=1,usecols=\"D:G\")\n",
        "df1=df1.iloc[9:31]\n",
        "df1.index=range(len(df1))\n",
        "df1.columns=df1.iloc[0]\n",
        "df1=df1.drop(index=0)\n",
        "print(df1)"
      ],
      "metadata": {
        "id": "RhtR3mc7uK9Q",
        "colab": {
          "base_uri": "https://localhost:8080/"
        },
        "outputId": "59a09311-f4ce-484c-ced7-0f7e9c9da77a"
      },
      "execution_count": null,
      "outputs": [
        {
          "output_type": "stream",
          "name": "stdout",
          "text": [
            "0  S No           Name            Team Name User ID\n",
            "1     1      Soumita M  Winning Culture Lab     280\n",
            "2     2     Subhangi 0  Winning Culture Lab      75\n",
            "3     3    Nitin Shane  Winning Culture Lab    1124\n",
            "4     4         Merwin               Mentor     295\n",
            "5     5  fardinkamal62    Human Capital Lab     263\n",
            "6     6  __riddhi_213_    Human Capital Lab     504\n",
            "7     7    Rohit Dutta               Mentor     266\n",
            "8     8       imshawan             Tech Lab      71\n",
            "9     9   Anuraj_Saini        BrandTech Lab     342\n",
            "10   10        sharath  Student Unicorn Lab    3367\n",
            "11   11        Ronak 0             Tech Lab     302\n",
            "12   12  Amrit Malviya        BrandTech Lab     336\n",
            "13   13        Saurabh               Mentor     271\n",
            "14   14    darshimalde  Student Unicorn Lab    3169\n",
            "15   15         Shagun             Tech Lab     100\n",
            "16   16         Ayisha  Student Unicorn Lab    3406\n",
            "17   17         Palash            Growpital      69\n",
            "18   18          raman            Growpital     539\n",
            "19   19        Nishant            Growpital     299\n",
            "20   20         Vatsal              Kringle    3408\n",
            "21   21       devmenkr              Kringle     360\n"
          ]
        }
      ]
    },
    {
      "cell_type": "code",
      "source": [
        "#Creating the first dataframe of sheet=3\n",
        "df2=pd.read_excel(\"Python Assignment2.xlsx\",sheet_name=2,usecols=\"C:G\")\n",
        "df2=df2.iloc[6:30]\n",
        "df2.columns=df2.iloc[0]\n",
        "df2.drop(index=6,inplace=True)\n",
        "df2.index=range(len(df2))\n",
        "df2.columns=[\"S No\",\"Name\",\"User ID\",\"total_statements\",\"total_reasons\"]\n",
        "print(df2)"
      ],
      "metadata": {
        "colab": {
          "base_uri": "https://localhost:8080/"
        },
        "id": "UOSD1jjd8T-v",
        "outputId": "febd5f1b-50b7-4849-f337-5dc7c7fef25b"
      },
      "execution_count": null,
      "outputs": [
        {
          "output_type": "stream",
          "name": "stdout",
          "text": [
            "   S No           Name User ID total_statements total_reasons\n",
            "0     1      Soumita M     280               13            21\n",
            "1     2     Subhangi 0      75               13            16\n",
            "2     3    Nitin Shane    1124               12            11\n",
            "3     4         Merwin     295               13            12\n",
            "4     5  fardinkamal62     263                2             2\n",
            "5     6  __riddhi_213_     504                2             7\n",
            "6     7    Rohit Dutta     266                3             3\n",
            "7     8       imshawan      71                9             9\n",
            "8     9   Anuraj_Saini     342                7             7\n",
            "9    10        sharath    3367                8             8\n",
            "10   11        Ronak 0     302               16            19\n",
            "11   12  Amrit Malviya     336                2             4\n",
            "12   13        Saurabh     271                6             8\n",
            "13   14    darshimalde    3169                3             3\n",
            "14   15         Shagun     100                2             2\n",
            "15   16         Ayisha    3406               11             8\n",
            "16   17         Palash      69                6             7\n",
            "17   18          raman     539                5             5\n",
            "18   19        Nishant     299                4             5\n",
            "19   20         Vatsal    3408                2             2\n",
            "20   21       devmenkr     360                7             7\n"
          ]
        }
      ]
    },
    {
      "cell_type": "code",
      "source": [
        "df=pd.merge(left=df1,right=df2,on=[\"S No\",\"Name\",\"User ID\"])\n",
        "print(df)"
      ],
      "metadata": {
        "colab": {
          "base_uri": "https://localhost:8080/"
        },
        "id": "UEpb_bnI8jVc",
        "outputId": "83a10000-5891-4e73-ec7f-17b2ce8b605a"
      },
      "execution_count": null,
      "outputs": [
        {
          "output_type": "stream",
          "name": "stdout",
          "text": [
            "   S No           Name            Team Name User ID total_statements  \\\n",
            "0     1      Soumita M  Winning Culture Lab     280               13   \n",
            "1     2     Subhangi 0  Winning Culture Lab      75               13   \n",
            "2     3    Nitin Shane  Winning Culture Lab    1124               12   \n",
            "3     4         Merwin               Mentor     295               13   \n",
            "4     5  fardinkamal62    Human Capital Lab     263                2   \n",
            "5     6  __riddhi_213_    Human Capital Lab     504                2   \n",
            "6     7    Rohit Dutta               Mentor     266                3   \n",
            "7     8       imshawan             Tech Lab      71                9   \n",
            "8     9   Anuraj_Saini        BrandTech Lab     342                7   \n",
            "9    10        sharath  Student Unicorn Lab    3367                8   \n",
            "10   11        Ronak 0             Tech Lab     302               16   \n",
            "11   12  Amrit Malviya        BrandTech Lab     336                2   \n",
            "12   13        Saurabh               Mentor     271                6   \n",
            "13   14    darshimalde  Student Unicorn Lab    3169                3   \n",
            "14   15         Shagun             Tech Lab     100                2   \n",
            "15   16         Ayisha  Student Unicorn Lab    3406               11   \n",
            "16   17         Palash            Growpital      69                6   \n",
            "17   18          raman            Growpital     539                5   \n",
            "18   19        Nishant            Growpital     299                4   \n",
            "19   20         Vatsal              Kringle    3408                2   \n",
            "20   21       devmenkr              Kringle     360                7   \n",
            "\n",
            "   total_reasons  \n",
            "0             21  \n",
            "1             16  \n",
            "2             11  \n",
            "3             12  \n",
            "4              2  \n",
            "5              7  \n",
            "6              3  \n",
            "7              9  \n",
            "8              7  \n",
            "9              8  \n",
            "10            19  \n",
            "11             4  \n",
            "12             8  \n",
            "13             3  \n",
            "14             2  \n",
            "15             8  \n",
            "16             7  \n",
            "17             5  \n",
            "18             5  \n",
            "19             2  \n",
            "20             7  \n"
          ]
        }
      ]
    },
    {
      "cell_type": "code",
      "source": [
        "s1=df[[\"S No\",\"Team Name\",\"total_statements\",\"total_reasons\"]]\n",
        "s2=s1[\"Team Name\"]\n",
        "s2.drop_duplicates(keep=\"first\")\n",
        "t_statements=[]\n",
        "t_reasons=[]\n",
        "for i in s2:\n",
        "    t_statements.append(round(s1[s1.eq(i).any(axis=1)][\"total_statements\"].mean(),ndigits=2))\n",
        "    t_reasons.append(round(s1[s1.eq(i).any(axis=1)][\"total_reasons\"].mean(),ndigits=2))\n",
        "s2.index=range(len(s2))\n",
        "s3=pd.DataFrame({\"Team_Name\":s2,\"Average_Statements\":t_statements,\"Average Reasons\":t_reasons},index=range(len(s2)))\n",
        "s3.sort_values(by=[\"Average_Statements\",\"Average Reasons\"],ascending=False,inplace=True)\n",
        "\n",
        "s3=s3.drop_duplicates()\n",
        "s3.index=range(1,len(s3)+1)\n",
        "s3.index.name=\"Rank\"\n",
        "#Taking part of data frame for indivisual ranking\n",
        "print(s3)"
      ],
      "metadata": {
        "id": "JUf0KYeX9AoD",
        "colab": {
          "base_uri": "https://localhost:8080/"
        },
        "outputId": "c30fabef-3da5-4f17-87d2-5d6bee28323e"
      },
      "execution_count": null,
      "outputs": [
        {
          "output_type": "stream",
          "name": "stdout",
          "text": [
            "                Team_Name  Average_Statements  Average Reasons\n",
            "Rank                                                          \n",
            "1     Winning Culture Lab               12.67            16.00\n",
            "2                Tech Lab                9.00            10.00\n",
            "3                  Mentor                7.33             7.67\n",
            "4     Student Unicorn Lab                7.33             6.33\n",
            "5               Growpital                5.00             5.67\n",
            "6           BrandTech Lab                4.50             5.50\n",
            "7                 Kringle                4.50             4.50\n",
            "8       Human Capital Lab                2.00             4.50\n"
          ]
        }
      ]
    },
    {
      "cell_type": "code",
      "source": [
        "df.sort_values(by=[\"total_statements\" , \"total_reasons\"],ascending=[False,False],inplace=True)\n",
        "df.index=range(1,len(df)+1)\n",
        "df.index.name=\"Rank\"\n",
        "r_df=df[[\"Name\",\"User ID\",\"total_statements\",\"total_reasons\"]]\n",
        "print(r_df)"
      ],
      "metadata": {
        "colab": {
          "base_uri": "https://localhost:8080/"
        },
        "id": "DY3AFs31dl0I",
        "outputId": "9cb04ce6-7e07-46dc-b933-35b0b17bef64"
      },
      "execution_count": null,
      "outputs": [
        {
          "output_type": "stream",
          "name": "stdout",
          "text": [
            "               Name User ID total_statements total_reasons\n",
            "Rank                                                      \n",
            "1           Ronak 0     302               16            19\n",
            "2         Soumita M     280               13            21\n",
            "3        Subhangi 0      75               13            16\n",
            "4            Merwin     295               13            12\n",
            "5       Nitin Shane    1124               12            11\n",
            "6            Ayisha    3406               11             8\n",
            "7          imshawan      71                9             9\n",
            "8           sharath    3367                8             8\n",
            "9      Anuraj_Saini     342                7             7\n",
            "10         devmenkr     360                7             7\n",
            "11          Saurabh     271                6             8\n",
            "12           Palash      69                6             7\n",
            "13            raman     539                5             5\n",
            "14          Nishant     299                4             5\n",
            "15      Rohit Dutta     266                3             3\n",
            "16      darshimalde    3169                3             3\n",
            "17    __riddhi_213_     504                2             7\n",
            "18    Amrit Malviya     336                2             4\n",
            "19    fardinkamal62     263                2             2\n",
            "20           Shagun     100                2             2\n",
            "21           Vatsal    3408                2             2\n"
          ]
        }
      ]
    },
    {
      "cell_type": "code",
      "source": [],
      "metadata": {
        "id": "Sc0VDEtzexhh"
      },
      "execution_count": null,
      "outputs": []
    }
  ]
}